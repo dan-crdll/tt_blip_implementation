{
 "cells": [
  {
   "cell_type": "code",
   "execution_count": 1,
   "metadata": {},
   "outputs": [
    {
     "data": {
      "text/plain": [
       "Dataset({\n",
       "    features: ['id', 'text', 'image', 'fake_cls', 'fake_text_pos', 'mtcnn_boxes', 'fake_image_box'],\n",
       "    num_rows: 208184\n",
       "})"
      ]
     },
     "execution_count": 1,
     "metadata": {},
     "output_type": "execute_result"
    }
   ],
   "source": [
    "from datasets import load_dataset\n",
    "\n",
    "train_dataset = load_dataset(\"rshaojimmy/DGM4\", split='train')\n",
    "train_dataset"
   ]
  },
  {
   "cell_type": "code",
   "execution_count": 13,
   "metadata": {},
   "outputs": [
    {
     "data": {
      "text/plain": [
       "38785"
      ]
     },
     "execution_count": 13,
     "metadata": {},
     "output_type": "execute_result"
    }
   ],
   "source": [
    "train_set = []\n",
    "real = 0\n",
    "fake = 0\n",
    "\n",
    "for el in train_dataset:\n",
    "    if (el['image'].split('/')[2] == 'bbc') or (el['image'].split('/')[2] == 'simswap'):\n",
    "        train_set.append({\n",
    "            'text': el['text'],\n",
    "            'image': el['image']\n",
    "        })\n",
    "        if el['image'].split('/')[1] == 'origin':\n",
    "            real += 1\n",
    "        else:\n",
    "            fake += 1\n",
    "    \n",
    "len(train_set)"
   ]
  },
  {
   "cell_type": "code",
   "execution_count": 14,
   "metadata": {},
   "outputs": [
    {
     "name": "stdout",
     "output_type": "stream",
     "text": [
      "Real : 23352 | Fake : 15433\n"
     ]
    }
   ],
   "source": [
    "print(f\"Real : {real} | Fake : {fake}\")"
   ]
  }
 ],
 "metadata": {
  "kernelspec": {
   "display_name": ".venv",
   "language": "python",
   "name": "python3"
  },
  "language_info": {
   "codemirror_mode": {
    "name": "ipython",
    "version": 3
   },
   "file_extension": ".py",
   "mimetype": "text/x-python",
   "name": "python",
   "nbconvert_exporter": "python",
   "pygments_lexer": "ipython3",
   "version": "3.12.3"
  }
 },
 "nbformat": 4,
 "nbformat_minor": 2
}
