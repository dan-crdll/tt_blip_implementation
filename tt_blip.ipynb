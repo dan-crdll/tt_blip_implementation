{
 "cells": [
  {
   "cell_type": "code",
   "execution_count": null,
   "metadata": {},
   "outputs": [],
   "source": [
    "from TT_BLIP.batch_extractor import DatasetLoader\n",
    "\n",
    "ds_loader = DatasetLoader(batch_size=1)\n",
    "train_dl, val_dl = ds_loader.get_dataloaders()"
   ]
  },
  {
   "cell_type": "code",
   "execution_count": null,
   "metadata": {},
   "outputs": [],
   "source": [
    "from TT_BLIP.tt_blip_layers import TT_BLIP_Model\n",
    "from lightning import Trainer\n",
    "from lightning.pytorch.loggers import WandbLogger\n",
    "\n",
    "\n",
    "model = TT_BLIP_Model(\n",
    "        ds_loader.dp.empty_pixel_values, \n",
    "        ds_loader.dp.empty_input_ids,\n",
    "        ds_loader.dp.empty_attn_mask, \n",
    "        512, \n",
    "        4\n",
    "    )"
   ]
  },
  {
   "cell_type": "code",
   "execution_count": null,
   "metadata": {},
   "outputs": [],
   "source": [
    "logger = WandbLogger('TT_BLIP_gossipcop', project=\"Thesis_New\")\n",
    "trainer = Trainer(max_epochs=15, logger=logger, log_every_n_steps=1, accumulate_grad_batches=8)\n",
    "trainer.fit(model, train_dl, val_dl)"
   ]
  }
 ],
 "metadata": {
  "kernelspec": {
   "display_name": ".venv",
   "language": "python",
   "name": "python3"
  },
  "language_info": {
   "codemirror_mode": {
    "name": "ipython",
    "version": 3
   },
   "file_extension": ".py",
   "mimetype": "text/x-python",
   "name": "python",
   "nbconvert_exporter": "python",
   "pygments_lexer": "ipython3",
   "version": "3.12.3"
  }
 },
 "nbformat": 4,
 "nbformat_minor": 2
}
